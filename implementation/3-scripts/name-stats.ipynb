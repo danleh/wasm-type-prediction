{
 "cells": [
  {
   "cell_type": "code",
   "execution_count": 2,
   "metadata": {},
   "outputs": [],
   "source": [
    "import pandas as pd\n",
    "names = pd.read_csv('~/wasm-type-prediction/data/extracted/name-stats/name-stats.csv')"
   ]
  },
  {
   "cell_type": "code",
   "execution_count": 3,
   "metadata": {},
   "outputs": [
    {
     "data": {
      "text/plain": [
       "size_t                                                               12766\n",
       "basic_string<char, std::char_traits<char>, std::allocator<char> >     4309\n",
       "_IO_FILE                                                              4231\n",
       "FILE                                                                  3986\n",
       "uint32_t                                                              3754\n",
       "string                                                                3457\n",
       "size_type                                                             3351\n",
       "length_error                                                          3085\n",
       "basic_ostream<char, std::char_traits<char> >                          3064\n",
       "ios_base                                                              3012\n",
       "uint8_t                                                               2974\n",
       "ostreambuf_iterator<char, std::char_traits<char> >                    2928\n",
       "type                                                                  2338\n",
       "ptrdiff_t                                                             2194\n",
       "int_type                                                              2172\n",
       "uint64_t                                                              1988\n",
       "value_type                                                            1929\n",
       "char_type                                                             1925\n",
       "GB_Matrix_opaque                                                      1857\n",
       "GrB_Matrix                                                            1857\n",
       "Name: name, dtype: int64"
      ]
     },
     "execution_count": 3,
     "metadata": {},
     "output_type": "execute_result"
    }
   ],
   "source": [
    "# Most common name, by number of binaries it appears in.\n",
    "names.name.value_counts()[:20]"
   ]
  },
  {
   "cell_type": "code",
   "execution_count": 25,
   "metadata": {},
   "outputs": [
    {
     "data": {
      "text/plain": [
       "name\n",
       "size_type                                                                                                                                                                                                                                                                                                                                                                                                                                                                                                                                          686352\n",
       "size_t                                                                                                                                                                                                                                                                                                                                                                                                                                                                                                                                             516451\n",
       "pointer                                                                                                                                                                                                                                                                                                                                                                                                                                                                                                                                            431795\n",
       "StateId                                                                                                                                                                                                                                                                                                                                                                                                                                                                                                                                            393474\n",
       "allocator_type                                                                                                                                                                                                                                                                                                                                                                                                                                                                                                                                     157511\n",
       "                                                                                                                                                                                                                                                                                                                                                                                                                                                                                                                                                    ...  \n",
       "_dfa_attrib_block                                                                                                                                                                                                                                                                                                                                                                                                                                                                                                                                       1\n",
       "Baselist                                                                                                                                                                                                                                                                                                                                                                                                                                                                                                                                                1\n",
       "ExpandAndApplyResult<kj::_::ExpandAndApplyFunc<const (lambda at /home/daniel/wasm-type-prediction/data/output/all/capnproto/src/capnproto-0.6.1/src/kj/parse/common-test.c++:473:7) &, int, int, int>, int, int>                                                                                                                                                                                                                                                                                                                                        1\n",
       "fci_t                                                                                                                                                                                                                                                                                                                                                                                                                                                                                                                                                   1\n",
       "__tree<std::__value_type<int, std::map<double, std::complex<double>, std::less<double>, std::allocator<std::pair<const double, std::complex<double> > > > >, std::__map_value_compare<int, std::__value_type<int, std::map<double, std::complex<double>, std::less<double>, std::allocator<std::pair<const double, std::complex<double> > > > >, std::less<int>, true>, std::allocator<std::__value_type<int, std::map<double, std::complex<double>, std::less<double>, std::allocator<std::pair<const double, std::complex<double> > > > > > >         1\n",
       "Name: count, Length: 102050, dtype: int64"
      ]
     },
     "execution_count": 25,
     "metadata": {},
     "output_type": "execute_result"
    }
   ],
   "source": [
    "# Most common name, by overall count\n",
    "name_counts = names.groupby('name')['count'].sum().sort_values(ascending=False)\n",
    "name_counts"
   ]
  },
  {
   "cell_type": "code",
   "execution_count": 5,
   "metadata": {},
   "outputs": [
    {
     "name": "stdout",
     "output_type": "stream",
     "text": [
      "common directory of all samples: 'binaries/wasm-dwarf'\n"
     ]
    },
    {
     "data": {
      "text/html": [
       "<div>\n",
       "<style scoped>\n",
       "    .dataframe tbody tr th:only-of-type {\n",
       "        vertical-align: middle;\n",
       "    }\n",
       "\n",
       "    .dataframe tbody tr th {\n",
       "        vertical-align: top;\n",
       "    }\n",
       "\n",
       "    .dataframe thead th {\n",
       "        text-align: right;\n",
       "    }\n",
       "</style>\n",
       "<table border=\"1\" class=\"dataframe\">\n",
       "  <thead>\n",
       "    <tr style=\"text-align: right;\">\n",
       "      <th></th>\n",
       "      <th>name</th>\n",
       "      <th>file</th>\n",
       "      <th>count</th>\n",
       "      <th>project</th>\n",
       "    </tr>\n",
       "  </thead>\n",
       "  <tbody>\n",
       "    <tr>\n",
       "      <th>0</th>\n",
       "      <td>__tuple_leaf&lt;1, std::shared_ptr&lt;fst::DefaultCo...</td>\n",
       "      <td>binaries/wasm-dwarf/libfst-dev/src/openfst-1.6...</td>\n",
       "      <td>2</td>\n",
       "      <td>libfst-dev</td>\n",
       "    </tr>\n",
       "    <tr>\n",
       "      <th>1</th>\n",
       "      <td>__tuple_leaf&lt;1, std::shared_ptr&lt;fst::DefaultCo...</td>\n",
       "      <td>binaries/wasm-dwarf/libfst-dev/src/openfst-1.6...</td>\n",
       "      <td>2</td>\n",
       "      <td>libfst-dev</td>\n",
       "    </tr>\n",
       "    <tr>\n",
       "      <th>2</th>\n",
       "      <td>__tuple_leaf&lt;1, std::shared_ptr&lt;fst::DefaultCo...</td>\n",
       "      <td>binaries/wasm-dwarf/libfst-dev/src/openfst-1.6...</td>\n",
       "      <td>2</td>\n",
       "      <td>libfst-dev</td>\n",
       "    </tr>\n",
       "    <tr>\n",
       "      <th>3</th>\n",
       "      <td>__tuple_leaf&lt;1, std::shared_ptr&lt;fst::DefaultCo...</td>\n",
       "      <td>binaries/wasm-dwarf/libfst-dev/src/openfst-1.6...</td>\n",
       "      <td>2</td>\n",
       "      <td>libfst-dev</td>\n",
       "    </tr>\n",
       "    <tr>\n",
       "      <th>4</th>\n",
       "      <td>__tuple_leaf&lt;1, std::shared_ptr&lt;fst::DefaultCo...</td>\n",
       "      <td>binaries/wasm-dwarf/libfst-dev/src/openfst-1.6...</td>\n",
       "      <td>2</td>\n",
       "      <td>libfst-dev</td>\n",
       "    </tr>\n",
       "    <tr>\n",
       "      <th>...</th>\n",
       "      <td>...</td>\n",
       "      <td>...</td>\n",
       "      <td>...</td>\n",
       "      <td>...</td>\n",
       "    </tr>\n",
       "    <tr>\n",
       "      <th>1317022</th>\n",
       "      <td>MidiPlayer</td>\n",
       "      <td>binaries/wasm-dwarf/scummvm/src/scummvm-2.0.0+...</td>\n",
       "      <td>1</td>\n",
       "      <td>scummvm</td>\n",
       "    </tr>\n",
       "    <tr>\n",
       "      <th>1317023</th>\n",
       "      <td>MidiPlayer</td>\n",
       "      <td>binaries/wasm-dwarf/scummvm/src/scummvm-2.0.0+...</td>\n",
       "      <td>1</td>\n",
       "      <td>scummvm</td>\n",
       "    </tr>\n",
       "    <tr>\n",
       "      <th>1317024</th>\n",
       "      <td>MidiPlayer</td>\n",
       "      <td>binaries/wasm-dwarf/scummvm/src/scummvm-2.0.0+...</td>\n",
       "      <td>1</td>\n",
       "      <td>scummvm</td>\n",
       "    </tr>\n",
       "    <tr>\n",
       "      <th>1317025</th>\n",
       "      <td>MidiPlayer</td>\n",
       "      <td>binaries/wasm-dwarf/scummvm/src/scummvm-2.0.0+...</td>\n",
       "      <td>1</td>\n",
       "      <td>scummvm</td>\n",
       "    </tr>\n",
       "    <tr>\n",
       "      <th>1317026</th>\n",
       "      <td>MidiPlayer</td>\n",
       "      <td>binaries/wasm-dwarf/scummvm/src/scummvm-2.0.0+...</td>\n",
       "      <td>1</td>\n",
       "      <td>scummvm</td>\n",
       "    </tr>\n",
       "  </tbody>\n",
       "</table>\n",
       "<p>1317027 rows × 4 columns</p>\n",
       "</div>"
      ],
      "text/plain": [
       "                                                      name  \\\n",
       "0        __tuple_leaf<1, std::shared_ptr<fst::DefaultCo...   \n",
       "1        __tuple_leaf<1, std::shared_ptr<fst::DefaultCo...   \n",
       "2        __tuple_leaf<1, std::shared_ptr<fst::DefaultCo...   \n",
       "3        __tuple_leaf<1, std::shared_ptr<fst::DefaultCo...   \n",
       "4        __tuple_leaf<1, std::shared_ptr<fst::DefaultCo...   \n",
       "...                                                    ...   \n",
       "1317022                                         MidiPlayer   \n",
       "1317023                                         MidiPlayer   \n",
       "1317024                                         MidiPlayer   \n",
       "1317025                                         MidiPlayer   \n",
       "1317026                                         MidiPlayer   \n",
       "\n",
       "                                                      file  count     project  \n",
       "0        binaries/wasm-dwarf/libfst-dev/src/openfst-1.6...      2  libfst-dev  \n",
       "1        binaries/wasm-dwarf/libfst-dev/src/openfst-1.6...      2  libfst-dev  \n",
       "2        binaries/wasm-dwarf/libfst-dev/src/openfst-1.6...      2  libfst-dev  \n",
       "3        binaries/wasm-dwarf/libfst-dev/src/openfst-1.6...      2  libfst-dev  \n",
       "4        binaries/wasm-dwarf/libfst-dev/src/openfst-1.6...      2  libfst-dev  \n",
       "...                                                    ...    ...         ...  \n",
       "1317022  binaries/wasm-dwarf/scummvm/src/scummvm-2.0.0+...      1     scummvm  \n",
       "1317023  binaries/wasm-dwarf/scummvm/src/scummvm-2.0.0+...      1     scummvm  \n",
       "1317024  binaries/wasm-dwarf/scummvm/src/scummvm-2.0.0+...      1     scummvm  \n",
       "1317025  binaries/wasm-dwarf/scummvm/src/scummvm-2.0.0+...      1     scummvm  \n",
       "1317026  binaries/wasm-dwarf/scummvm/src/scummvm-2.0.0+...      1     scummvm  \n",
       "\n",
       "[1317027 rows x 4 columns]"
      ]
     },
     "execution_count": 5,
     "metadata": {},
     "output_type": "execute_result"
    }
   ],
   "source": [
    "commonpath = os.path.commonpath(list(names.file.unique()))\n",
    "print(f\"common directory of all samples: '{commonpath}'\")\n",
    "\n",
    "def first_dir(path):\n",
    "    path_relative = os.path.relpath(path, commonpath)\n",
    "    first_dir = path_relative.split(os.sep)[0]\n",
    "    return first_dir\n",
    "\n",
    "names['project'] = names.apply(lambda x: first_dir(x['file']), axis=1)\n",
    "names"
   ]
  },
  {
   "cell_type": "code",
   "execution_count": 6,
   "metadata": {},
   "outputs": [
    {
     "name": "stdout",
     "output_type": "stream",
     "text": [
      "unique projects: 1346\n",
      "project names, by number of unique names in them:\n"
     ]
    },
    {
     "data": {
      "text/plain": [
       "[('libfst-dev', 710580),\n",
       " ('scummvm', 48049),\n",
       " ('cmake', 42361),\n",
       " ('libxerces-c-dev', 35610),\n",
       " ('gdal-bin', 18831),\n",
       " ('leptonica-progs', 14217),\n",
       " ('cppcheck', 12999),\n",
       " ('liblog4cplus-1.1-9', 10240),\n",
       " ('emboss', 8127),\n",
       " ('gringo', 7250),\n",
       " ('libopenscenegraph-3.4-131', 7024),\n",
       " ('nlohmann-json-dev', 6989),\n",
       " ('libncl-dev', 6930),\n",
       " ('icu-devtools', 6780),\n",
       " ('libopenscenegraph-dev', 6010),\n",
       " ('libgloox-dbg', 5991),\n",
       " ('libamd2', 5708),\n",
       " ('hippomocks', 5679),\n",
       " ('imagemagick', 5650),\n",
       " ('libcrypto++-dev', 5644),\n",
       " ('kwstyle', 5531),\n",
       " ('libopengm-bin', 5164),\n",
       " ('libitpp-dev', 4934),\n",
       " ('aria2', 4675),\n",
       " ('libprotozero-dev', 4565),\n",
       " ('tripwire', 4390),\n",
       " ('libspdlog-dev', 4304),\n",
       " ('capnproto', 4203),\n",
       " ('flatzinc', 4171),\n",
       " ('residualvm', 3743),\n",
       " ('libmbedcrypto1', 3618),\n",
       " ('gsl-bin', 3615),\n",
       " ('libaria-demo', 3565),\n",
       " ('kimwitu++', 3421),\n",
       " ('libyaz5', 3408),\n",
       " ('libbpp-core-dev', 3273),\n",
       " ('libyaml-cpp0.3-dev', 3118),\n",
       " ('leveldb-doc', 3077),\n",
       " ('libmyth', 2836),\n",
       " ('voronota', 2826),\n",
       " ('libsegyio-dev', 2802),\n",
       " ('libmailutils-dev', 2611),\n",
       " ('libmapbox-variant-dev', 2585),\n",
       " ('libfftw3-3', 2524),\n",
       " ('libsane-common', 2494),\n",
       " ('nanopolish', 2369),\n",
       " ('libmadlib', 2362),\n",
       " ('clasp', 2217),\n",
       " ('libsass-dev', 2196),\n",
       " ('libpam-slurm', 2151)]"
      ]
     },
     "execution_count": 6,
     "metadata": {},
     "output_type": "execute_result"
    }
   ],
   "source": [
    "print('unique projects:', len(names.project.unique()))\n",
    "\n",
    "from collections import Counter\n",
    "print('project names, by number of unique names in them:')\n",
    "Counter(names.project).most_common(50)"
   ]
  },
  {
   "cell_type": "code",
   "execution_count": 9,
   "metadata": {},
   "outputs": [
    {
     "data": {
      "text/plain": [
       "name\n",
       "size_t                                                                                                                          859\n",
       "_IO_FILE                                                                                                                        636\n",
       "FILE                                                                                                                            608\n",
       "uint32_t                                                                                                                        333\n",
       "basic_string<char, std::char_traits<char>, std::allocator<char> >                                                               232\n",
       "                                                                                                                               ... \n",
       "__tuple_leaf<0, const fst::Fst<fst::GallicArc<fst::ArcTpl<fst::TropicalWeightTpl<float> >, fst::GALLIC_MIN> > &, false>           1\n",
       "__tuple_leaf<0, const fst::Fst<fst::GallicArc<fst::ArcTpl<fst::TropicalWeightTpl<float> >, fst::GALLIC_RESTRICT> > &, false>      1\n",
       "__tuple_leaf<0, const fst::Fst<fst::GallicArc<fst::ArcTpl<fst::TropicalWeightTpl<float> >, fst::GALLIC_RIGHT> > &, false>         1\n",
       "__tuple_leaf<0, const fst::Fst<fst::ReverseArc<fst::ArcTpl<fst::LogWeightTpl<double> > > > &, false>                              1\n",
       "A                                                                                                                                 1\n",
       "Name: project, Length: 102050, dtype: int64"
      ]
     },
     "execution_count": 9,
     "metadata": {},
     "output_type": "execute_result"
    }
   ],
   "source": [
    "# Most common names, by appearances in projects\n",
    "names_projects = names.groupby('name')['project'].nunique().sort_values(ascending=False)\n",
    "names_projects"
   ]
  },
  {
   "cell_type": "code",
   "execution_count": 27,
   "metadata": {},
   "outputs": [
    {
     "name": "stdout",
     "output_type": "stream",
     "text": [
      "                                                    project proportion   count\n",
      "name                                                                          \n",
      "size_t                                                        0.638187  516451\n",
      "_IO_FILE                                                      0.472511   22493\n",
      "FILE                                                          0.451709   20949\n",
      "uint32_t                                                      0.247400   54395\n",
      "basic_string<char, std::char_traits<char>, std:...            0.172363  135900\n",
      "...                                                                ...     ...\n",
      "__tuple_leaf<0, const fst::Fst<fst::GallicArc<f...            0.000743      80\n",
      "__tuple_leaf<0, const fst::Fst<fst::GallicArc<f...            0.000743      80\n",
      "__tuple_leaf<0, const fst::Fst<fst::GallicArc<f...            0.000743      78\n",
      "__tuple_leaf<0, const fst::Fst<fst::ReverseArc<...            0.000743      88\n",
      "A                                                             0.000743       2\n",
      "\n",
      "[102050 rows x 2 columns]\n"
     ]
    }
   ],
   "source": [
    "names_proportion = names_projects / len(names.project.unique())\n",
    "names_proportion = names_proportion.to_frame().rename({'project': 'project proportion'}, axis=1)\n",
    "names_proportion = names_proportion.join(name_counts)\n",
    "print(names_proportion)\n",
    "names_proportion.to_csv('~/wasm-type-prediction/data/extracted/name-stats/name-stats.project-proportion.csv')"
   ]
  },
  {
   "cell_type": "code",
   "execution_count": 47,
   "metadata": {},
   "outputs": [
    {
     "name": "stdout",
     "output_type": "stream",
     "text": [
      "239\n",
      "                                                    project proportion   count\n",
      "name                                                                          \n",
      "size_t                                                        0.638187  516451\n",
      "FILE                                                          0.451709   20949\n",
      "basic_string<char, std::char_traits<char>, std:...            0.172363  135900\n",
      "basic_ostream<char, std::char_traits<char> >                  0.162704   35460\n",
      "ios_base                                                      0.161218   10002\n",
      "...                                                                ...     ...\n",
      "sockaddr_storage                                              0.010401     175\n",
      "code                                                          0.010401      48\n",
      "gz_header                                                     0.010401      41\n",
      "libfdata_mapped_range_t                                       0.010401      90\n",
      "gz_header_s                                                   0.010401      41\n",
      "\n",
      "[239 rows x 2 columns]\n",
      "\\code{size_t} & 516451.0 & 0.6\\%\n",
      "\\code{FILE} & 20949.0 & 0.5\\%\n",
      "\\code{basic_string<char, std::char_traits<char>, std::allocator<char> >} & 135900.0 & 0.2\\%\n",
      "\\code{basic_ostream<char, std::char_traits<char> >} & 35460.0 & 0.2\\%\n",
      "\\code{ios_base} & 10002.0 & 0.2\\%\n",
      "\\code{ostreambuf_iterator<char, std::char_traits<char> >} & 7801.0 & 0.2\\%\n",
      "\\code{va_list} & 2470.0 & 0.2\\%\n",
      "\\code{string} & 45081.0 & 0.2\\%\n",
      "\\code{length_error} & 3085.0 & 0.2\\%\n",
      "\\code{ptrdiff_t} & 30737.0 & 0.1\\%\n",
      "\\code{time_t} & 1465.0 & 0.1\\%\n",
      "\\code{streamsize} & 3685.0 & 0.1\\%\n",
      "\\code{locale} & 2189.0 & 0.1\\%\n",
      "\\code{ssize_t} & 9659.0 & 0.1\\%\n",
      "\\code{basic_stringbuf<char, std::char_traits<char>, std::allocator<char> >} & 9219.0 & 0.1\\%\n",
      "\\code{ostream} & 20004.0 & 0.1\\%\n",
      "\\code{const_reference} & 28322.0 & 0.1\\%\n",
      "\\code{basic_istream<char, std::char_traits<char> >} & 9229.0 & 0.1\\%\n",
      "\\code{const_iterator} & 12642.0 & 0.1\\%\n",
      "\\code{vector<std::basic_string<char, std::char_traits<char>, std::allocator<char> >, std::allocator<std::basic_string<char, std::char_traits<char>, std::allocator<char> > > >} & 12377.0 & 0.1\\%\n"
     ]
    }
   ],
   "source": [
    "import re\n",
    "\n",
    "INT_TYPE_RE = re.compile('u?_?int(\\d+)?(_t)?')\n",
    "# size_type as well, since it's the C++ equivalent of size_t and always a typedef to size_t anyway.\n",
    "OTHER_PRIMITIVE_TYPE = ['int_type', 'char_type', 'value_type', 'type', 'bool', 'pointer', 'size_type']\n",
    "\n",
    "PROJECT_THRESHOLD = 0.01  # 1% of all projects should have the name\n",
    "\n",
    "names_to_keep = []\n",
    "# Keep only names that are NOT project-specific and \"commonly used\".\n",
    "for name, series in names_proportion[names_proportion['project proportion'] > PROJECT_THRESHOLD].iterrows():\n",
    "    # If it matches a primitive type, don't keep the name since we can just use the primitive name.\n",
    "    # If name starts with underscore, it is an internal name, we don't want to keep.\n",
    "    if not INT_TYPE_RE.match(name.lower()) and name.lower() not in OTHER_PRIMITIVE_TYPE and not name.startswith('_'):\n",
    "        # print(name, prop)\n",
    "        names_to_keep.append(name)\n",
    "\n",
    "print(len(names_to_keep))\n",
    "\n",
    "with open('/home/daniel/wasm-type-prediction/data/extracted/name-stats/names-keep.txt', 'w') as f:\n",
    "    for line in names_to_keep:\n",
    "        f.write(f\"{line}\\n\")"
   ]
  },
  {
   "cell_type": "code",
   "execution_count": 59,
   "metadata": {},
   "outputs": [
    {
     "name": "stdout",
     "output_type": "stream",
     "text": [
      "                                                    project proportion   count\n",
      "name                                                                          \n",
      "size_t                                                        0.638187  516451\n",
      "allocator_type                                                0.064636  157511\n",
      "basic_string<char, std::char_traits<char>, std:...            0.172363  135900\n",
      "const_pointer                                                 0.063150   45222\n",
      "string                                                        0.155275   45081\n",
      "...                                                                ...     ...\n",
      "gz_header_s                                                   0.010401      41\n",
      "libcthreads_internal_thread_pool                              0.014859      25\n",
      "libcthreads_internal_thread_pool_t                            0.014859      25\n",
      "libfdata_internal_list_t                                      0.011144      22\n",
      "libfdata_internal_list                                        0.011144      22\n",
      "\n",
      "[239 rows x 2 columns]\n",
      "\\code{size\\_t} & 516,451 & 63.8\\,\\% \\\\\n",
      "\\code{allocator\\_type} & 157,511 & 6.5\\,\\% \\\\\n",
      "\\code{basic\\_string<char, std::char\\_traits<char>, std::allocator<char> >} & 135,900 & 17.2\\,\\% \\\\\n",
      "\\code{const\\_pointer} & 45,222 & 6.3\\,\\% \\\\\n",
      "\\code{string} & 45,081 & 15.5\\,\\% \\\\\n",
      "\\code{basic\\_ostream<char, std::char\\_traits<char> >} & 35,460 & 16.3\\,\\% \\\\\n",
      "\\code{libcerror\\_error\\_t} & 32,595 & 1.8\\,\\% \\\\\n",
      "\\code{ptrdiff\\_t} & 30,737 & 14.9\\,\\% \\\\\n",
      "\\code{const\\_reference} & 28,322 & 9.5\\,\\% \\\\\n",
      "\\code{difference\\_type} & 26,763 & 6.6\\,\\% \\\\\n"
     ]
    }
   ],
   "source": [
    "names_proportion = names_proportion[names_proportion.index.isin(names_to_keep)]\n",
    "print(names_proportion)\n",
    "names_proportion.to_csv('~/wasm-type-prediction/data/extracted/name-stats/name-stats.project-proportion.keep.csv')\n",
    "\n",
    "for name, series in list(names_proportion.iterrows())[:10]:\n",
    "    escaped_name = name.replace(\"_\", r\"\\_\")\n",
    "    print(f'\\\\code{{{escaped_name}}} & {series[\"count\"]:,.0f} & {series[\"project proportion\"] * 100:2.1f}\\\\,\\\\% \\\\\\\\')"
   ]
  }
 ],
 "metadata": {
  "interpreter": {
   "hash": "f502c9f8cc810ebd22b57e7c79a9d06f7b7c060e6ecfb4908c78b2fe1d232067"
  },
  "kernelspec": {
   "display_name": "Python 3.7.6 64-bit ('base': conda)",
   "name": "python3"
  },
  "language_info": {
   "codemirror_mode": {
    "name": "ipython",
    "version": 3
   },
   "file_extension": ".py",
   "mimetype": "text/x-python",
   "name": "python",
   "nbconvert_exporter": "python",
   "pygments_lexer": "ipython3",
   "version": "3.7.6"
  },
  "orig_nbformat": 4
 },
 "nbformat": 4,
 "nbformat_minor": 2
}
